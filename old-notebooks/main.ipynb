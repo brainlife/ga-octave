{
 "cells": [
  {
   "cell_type": "code",
   "execution_count": null,
   "metadata": {},
   "outputs": [],
   "source": [
    "#load metadata for all (secondary) outputs available for this project\n",
    "import os\n",
    "import json\n",
    "objs = []\n",
    "for entry in os.scandir(\"input/meta\"):\n",
    "    with open(entry.path, \"r\") as f:\n",
    "        obj = json.loads(f.read())\n",
    "\n",
    "    if obj[\"removed\"] != True:\n",
    "        objs.append(obj)\n",
    "\n",
    "print(\"number of metadata\", len(objs))\n",
    "\n",
    "#load participants columns/info (for phenotype - if you have it defined for your project)\n",
    "with open(\"input/participants.json\") as f:\n",
    "    participants = json.load(f)\n",
    "    \n",
    "with open(\"input/participants_column.json\") as f:\n",
    "    participants_column = json.load(f)"
   ]
  },
  {
   "cell_type": "code",
   "execution_count": null,
   "metadata": {},
   "outputs": [],
   "source": [
    "# EDIT ME\n",
    "# Now you need to pick and choose which objects # you want to load \n",
    "# into this notebook to perform your data analysis.\n",
    "#\n",
    "# Itereate through the objs list from above step and pick the objects you need.\n",
    "# The actual file path for each object is stored in obj[\"_secondaryPath\"]\n",
    "\n",
    "# import any library you need to load data (for csv, pandas works nicely)\n",
    "import pandas\n",
    "\n",
    "# you probably need to create multiple lists to load various things\n",
    "myCSVs = {}\n",
    "\n",
    "for obj in objs:\n",
    "    #put whatever the condition you'd like to use\n",
    "    #if you don't know which field/keys to use, just\n",
    "    #open up one of the .json under input/meta directory\n",
    "    #and see what key/values exists\n",
    "    if obj[\"datatype\"][\"name\"] == \"neuro/tractmeasures\":\n",
    "        subject = obj[\"datatype\"][\"name\"]\n",
    "\n",
    "        #construct the filepath based on the datatype of your choice \n",
    "        #(see https://brainlife.io/datatypes pages for more information)\n",
    "        csvPath = \"input/\"+obj[\"_secondaryPath\"]+\"/tractmeasures.csv\"\n",
    "\n",
    "        #load the data into this notebook. you can use pandas/nibabel/etc..\n",
    "        myCSVs[subject] = pandas.read_csv(csvPath)\n",
    "\n",
    "#now you can peform your data analysis using myCSVs"
   ]
  }
 ],
 "metadata": {
  "kernelspec": {
   "display_name": "Python 3 (ipykernel)",
   "language": "python",
   "name": "python3"
  },
  "language_info": {
   "codemirror_mode": {
    "name": "ipython",
    "version": 3
   },
   "file_extension": ".py",
   "mimetype": "text/x-python",
   "name": "python",
   "nbconvert_exporter": "python",
   "pygments_lexer": "ipython3",
   "version": "3.9.5"
  }
 },
 "nbformat": 4,
 "nbformat_minor": 4
}
